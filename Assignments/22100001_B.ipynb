{
  "cells": [
    {
      "cell_type": "markdown",
      "metadata": {
        "id": "JlM2iatsQ9nb"
      },
      "source": [
        "# Assignment 2  - Part B\n",
        "\n",
        "\n",
        "#### Roll Number:2022-10-0001"
      ]
    },
    {
      "cell_type": "markdown",
      "metadata": {
        "id": "U_kQzTmZRTLu"
      },
      "source": [
        "### Task Explanation"
      ]
    },
    {
      "cell_type": "markdown",
      "metadata": {
        "id": "m73XPqSORiIJ"
      },
      "source": [
        "In this task, we will perform feature extraction and fine-tuning on a previously trained over a large dataset model. This is a very useful domain of Deep Learning known as Transfer Learning. We don't always have the luxury of time and computational power to adequately train a large model over our dataset. So, we use models which have been trained on large datasets (usually ImageNet) and then fine-tune them on our dataset. The intuition behind transfer learning for image classification is that if a model is trained on a large and general enough dataset, this model will effectively serve as a generic model of the visual world. You can then take advantage of these learned feature maps without having to start from scratch by training a large model on a large dataset.\n",
        "\n",
        "Here, we will fine-tune a previously trained model on imagenet to learn and classify Marvel Superheroes."
      ]
    },
    {
      "cell_type": "markdown",
      "metadata": {
        "id": "o5dOkrpMXxwA"
      },
      "source": [
        "### Dataset\n",
        "\n"
      ]
    },
    {
      "cell_type": "markdown",
      "metadata": {
        "id": "fNFej_smE6As"
      },
      "source": [
        "use this [link](https://drive.google.com/drive/folders/1O3crt73u20vAOK11FU59uvKai9DCggOa?usp=sharing) to add the dataset folder shortcut to your drive"
      ]
    },
    {
      "cell_type": "code",
      "execution_count": 1,
      "metadata": {
        "colab": {
          "base_uri": "https://localhost:8080/"
        },
        "id": "cpIdfa5ds8Ml",
        "outputId": "63d088e9-1d8b-4867-f170-c3c3ecf35ca3"
      },
      "outputs": [
        {
          "output_type": "stream",
          "name": "stdout",
          "text": [
            "Mounted at /content/gdrive\n"
          ]
        }
      ],
      "source": [
        "from google.colab import drive\n",
        "drive.mount('/content/gdrive')"
      ]
    },
    {
      "cell_type": "code",
      "execution_count": null,
      "metadata": {
        "id": "tKNgVC1AtKi6"
      },
      "outputs": [],
      "source": [
        "!unzip '/content/gdrive/MyDrive/Deep Learning/A2/marvel.zip' -d '/content/gdrive/MyDrive/Deep Learning/A2/marvel_images'"
      ]
    },
    {
      "cell_type": "markdown",
      "metadata": {
        "id": "Ay5FPjLZn6_x"
      },
      "source": [
        "### Task 1\n"
      ]
    },
    {
      "cell_type": "markdown",
      "metadata": {
        "id": "_484MVejoBJB"
      },
      "source": [
        "the Marvel Superheroes dataset consists of 8 classes, you have to add another class for \"Thor\" \n",
        "\n",
        "you are welcome to scrape images from any online source, make another folder for Thor inside train and val directories.\n",
        "\n",
        "make sure there are different images in the validation and training datasets."
      ]
    },
    {
      "cell_type": "code",
      "execution_count": 2,
      "metadata": {
        "colab": {
          "base_uri": "https://localhost:8080/"
        },
        "id": "4P4FtYzeMo0C",
        "outputId": "e6b95cd5-f384-49c7-c9a3-499e9cb39813"
      },
      "outputs": [
        {
          "output_type": "stream",
          "name": "stdout",
          "text": [
            "Number of thor images to scrape is approximately 377\n"
          ]
        }
      ],
      "source": [
        "# find the number of images to scrape\n",
        "\n",
        "import glob\n",
        "img_paths = []\n",
        "files = glob.glob(\"/content/gdrive/MyDrive/Deep Learning/A2/marvel_images/marvel/**/hulk/*\", recursive = False)\n",
        "for file in files:\n",
        "  img_paths.append(file)\n",
        "print(\"Number of thor images to scrape is approximately {}\".format(len(img_paths)))"
      ]
    },
    {
      "cell_type": "markdown",
      "metadata": {
        "id": "9XiIJN3ENTAu"
      },
      "source": [
        "Used https://towardsdatascience.com/image-scraping-with-python-a96feda8af2d to scrape 300 thor images"
      ]
    },
    {
      "cell_type": "markdown",
      "metadata": {
        "id": "9aIvy7yq-dlL"
      },
      "source": [
        "### Task 2"
      ]
    },
    {
      "cell_type": "markdown",
      "metadata": {
        "id": "FRknlAP8-jO1"
      },
      "source": [
        "In this task we will be downloding pre-trained models and further train them through feature extraction and finetuning on our Marvel dataset.\n",
        "\n",
        "Finally, we will compare these models with a third model trained from scratch."
      ]
    },
    {
      "cell_type": "markdown",
      "metadata": {
        "id": "LuuKM6L7XvVB"
      },
      "source": [
        "### Models\n"
      ]
    },
    {
      "cell_type": "markdown",
      "metadata": {
        "id": "xxOeWlzGYZcw"
      },
      "source": [
        "You can use anyone of the following models for this task. See the [documentation](https://pytorch.org/vision/stable/models.html) for more details.\n",
        "- VGG\n",
        "- ResNet\n",
        "- MobileNet\n",
        "- EfficientNet"
      ]
    },
    {
      "cell_type": "markdown",
      "metadata": {
        "id": "rfMOftyqbQbp"
      },
      "source": [
        "### Tutuorial Example\n",
        "\n",
        "You are recommended to follow this [tutorial](https://pytorch.org/tutorials/beginner/finetuning_torchvision_models_tutorial.html#create-the-optimizer) for this task. All the hints and information required are available here and this task can be easily completed by following it. In this tutorial, they use MobileNet but as mentioned above you are free to use any of the abovementioned models."
      ]
    },
    {
      "cell_type": "code",
      "execution_count": 3,
      "metadata": {
        "colab": {
          "base_uri": "https://localhost:8080/"
        },
        "id": "_POqcmrGQloX",
        "outputId": "d9e0e90c-ce15-4a78-8c7f-27a58e752bc6"
      },
      "outputs": [
        {
          "output_type": "stream",
          "name": "stdout",
          "text": [
            "PyTorch Version:  1.10.0+cu111\n",
            "Torchvision Version:  0.11.1+cu111\n"
          ]
        }
      ],
      "source": [
        "# make any other necessary imports here\n",
        "from __future__ import print_function\n",
        "from __future__ import division\n",
        "import torch\n",
        "import torch.nn as nn\n",
        "import torch.optim as optim\n",
        "import numpy as np\n",
        "import torchvision\n",
        "from torchvision import datasets, models, transforms\n",
        "import matplotlib.pyplot as plt\n",
        "import time\n",
        "import os\n",
        "import copy\n",
        "print(\"PyTorch Version: \",torch.__version__)\n",
        "print(\"Torchvision Version: \",torchvision.__version__)\n",
        "\n",
        "import cv2\n",
        "import glob\n",
        "import re\n",
        "from google.colab.patches import cv2_imshow\n",
        "from torch.utils.data import DataLoader"
      ]
    },
    {
      "cell_type": "code",
      "execution_count": 4,
      "metadata": {
        "id": "FnuTryHnnIbQ"
      },
      "outputs": [],
      "source": [
        "device = torch.device(\"cuda:0\" if torch.cuda.is_available() else \"cpu\")"
      ]
    },
    {
      "cell_type": "markdown",
      "metadata": {
        "id": "P0uPopOtAZZp"
      },
      "source": [
        "Define hyperparameters"
      ]
    },
    {
      "cell_type": "code",
      "execution_count": 32,
      "metadata": {
        "id": "-FvcGUc6c4sB"
      },
      "outputs": [],
      "source": [
        "# define hyperparameters\n",
        "data_dir = \"/content/marvel_dataset/marvel\"\n",
        "\n",
        "# Number of classes in the dataset\n",
        "num_classes = 9\n",
        "\n",
        "# Batch size for training (change depending on how much memory you have)\n",
        "batch_size = 64\n",
        "\n",
        "# Number of epochs to train for\n",
        "num_epochs = 30\n",
        "\n",
        "# Flag for feature extracting. When False, we finetune the whole model,\n",
        "#   when True we only update the reshaped layer params i.e  perform feature extraction\n",
        "feature_extract = True\n",
        "\n",
        "input_shape = (224,224)"
      ]
    },
    {
      "cell_type": "markdown",
      "metadata": {
        "id": "21nBaKllBLun"
      },
      "source": [
        "### Data Load"
      ]
    },
    {
      "cell_type": "markdown",
      "metadata": {
        "id": "idL_FIkrBeLC"
      },
      "source": [
        "Load the data and initialize dataloaders here.\n"
      ]
    },
    {
      "cell_type": "markdown",
      "metadata": {
        "id": "KP2AsNi04qgO"
      },
      "source": [
        "##### Extract the labels"
      ]
    },
    {
      "cell_type": "code",
      "execution_count": 6,
      "metadata": {
        "colab": {
          "base_uri": "https://localhost:8080/"
        },
        "id": "J26dqCemDV7C",
        "outputId": "3a57d409-f813-4c51-e33f-31cf55cb2383"
      },
      "outputs": [
        {
          "output_type": "stream",
          "name": "stdout",
          "text": [
            "The labels are: {'thanos': 0, 'black widow': 1, 'captain america': 2, 'doctor strange': 3, 'hulk': 4, 'ironman': 5, 'loki': 6, 'spider-man': 7, 'thor': 8}\n"
          ]
        }
      ],
      "source": [
        "\n",
        "# Labels \n",
        "my_labels={}\n",
        "files = glob.glob(\"/content/gdrive/MyDrive/Deep Learning/A2/marvel_images/marvel/train/*\", recursive = False)\n",
        "for i, file in enumerate(files):\n",
        "  label = re.split(\"/\", file)[9]\n",
        "  my_labels[label] = i\n",
        "print(\"The labels are:\", my_labels)\n"
      ]
    },
    {
      "cell_type": "markdown",
      "metadata": {
        "id": "UCbCyCAL404_"
      },
      "source": [
        "##### Find the paths for training and validation data"
      ]
    },
    {
      "cell_type": "code",
      "execution_count": 7,
      "metadata": {
        "colab": {
          "base_uri": "https://localhost:8080/"
        },
        "id": "Dmt3s4m2i3vw",
        "outputId": "31ddb89f-f20d-4fa2-dd20-1d65e5e4fdcf"
      },
      "outputs": [
        {
          "output_type": "stream",
          "name": "stdout",
          "text": [
            "Length of training paths 2789\n"
          ]
        }
      ],
      "source": [
        "training_paths = []\n",
        "files = glob.glob(\"/content/gdrive/MyDrive/Deep Learning/A2/marvel_images/marvel/train/**/*\", recursive = False)\n",
        "for file in files:\n",
        "  training_paths.append(file)\n",
        "print(\"Length of training paths {}\".format(len(training_paths)))"
      ]
    },
    {
      "cell_type": "code",
      "execution_count": 8,
      "metadata": {
        "colab": {
          "base_uri": "https://localhost:8080/"
        },
        "id": "R6SnYRUvjKA5",
        "outputId": "176853c0-cf39-452f-f308-bf365982156a"
      },
      "outputs": [
        {
          "output_type": "stream",
          "name": "stdout",
          "text": [
            "Length of training paths 520\n"
          ]
        }
      ],
      "source": [
        "valid_paths = []\n",
        "files = glob.glob(\"/content/gdrive/MyDrive/Deep Learning/A2/marvel_images/marvel/valid/**/*\", recursive = False)\n",
        "for file in files:\n",
        "  valid_paths.append(file)\n",
        "print(\"Length of training paths {}\".format(len(valid_paths)))"
      ]
    },
    {
      "cell_type": "markdown",
      "metadata": {
        "id": "faxISkRp4_ir"
      },
      "source": [
        "##### Data Generator Function"
      ]
    },
    {
      "cell_type": "code",
      "execution_count": 9,
      "metadata": {
        "id": "7gFoRUIdhN0w"
      },
      "outputs": [],
      "source": [
        "def preprocessing_norm(images):\n",
        "    images = images / 255\n",
        "    return images\n",
        "\n",
        "# Data generator function \n",
        "def data_generator(img_path_list):\n",
        "  \n",
        "  return_list = []\n",
        "  num_samples = len(img_path_list)\n",
        "  \n",
        "  for img_path in img_path_list:\n",
        " \n",
        "    im_cv = cv2.imread(img_path)\n",
        "    im_cv = im_cv.astype(np.float32)\n",
        "    im_cv = cv2.cvtColor(im_cv, cv2.COLOR_BGR2RGB) # convert to RGB\n",
        "    im_cv = cv2.resize(im_cv, input_shape)\n",
        "    im_cv = np.transpose(preprocessing_norm(im_cv))\n",
        "    \n",
        "    label = re.split(\"/\", img_path)[9]\n",
        "    label = my_labels[label] # convert to numeric label\n",
        "\n",
        "    return_list.append((im_cv, label))\n",
        "    \n",
        "  return return_list"
      ]
    },
    {
      "cell_type": "markdown",
      "metadata": {
        "id": "pMGkj5RI5LAS"
      },
      "source": [
        "##### Create training and validation loaders"
      ]
    },
    {
      "cell_type": "code",
      "execution_count": 10,
      "metadata": {
        "id": "0QH-uPmIlxq6"
      },
      "outputs": [],
      "source": [
        "# create a training loader\n",
        "training_loader = DataLoader(data_generator(training_paths), batch_size=batch_size, shuffle=True)\n",
        "\n",
        "# create a validation loader\n",
        "validation_loader = DataLoader(data_generator(valid_paths), batch_size=batch_size, shuffle=True)\n",
        "\n",
        "# create dictionary\n",
        "dataloaders_dict = {'train': training_loader, 'val': validation_loader}"
      ]
    },
    {
      "cell_type": "markdown",
      "metadata": {
        "id": "ziqVSbfTDn7S"
      },
      "source": [
        "### Helper Functions"
      ]
    },
    {
      "cell_type": "markdown",
      "metadata": {
        "id": "dHKnZp0cNUZw"
      },
      "source": [
        "Define the train_model function here."
      ]
    },
    {
      "cell_type": "code",
      "execution_count": 11,
      "metadata": {
        "id": "ZGs4cstCEkhx"
      },
      "outputs": [],
      "source": [
        "def train_model(model, dataloaders, criterion, optimizer, num_epochs=25, is_inception=False):\n",
        "    since = time.time()\n",
        "\n",
        "    val_acc_history = []\n",
        "\n",
        "    best_model_wts = copy.deepcopy(model.state_dict())\n",
        "    best_acc = 0.0\n",
        "\n",
        "    for epoch in range(num_epochs):\n",
        "        print('Epoch {}/{}'.format(epoch, num_epochs - 1))\n",
        "        print('-' * 10)\n",
        "\n",
        "        # Each epoch has a training and validation phase\n",
        "        for phase in ['train', 'val']:\n",
        "            if phase == 'train':\n",
        "                model.train()  # Set model to training mode\n",
        "            else:\n",
        "                model.eval()   # Set model to evaluate mode\n",
        "\n",
        "            running_loss = 0.0\n",
        "            running_corrects = 0\n",
        "\n",
        "            # Iterate over data.\n",
        "            for inputs, labels in dataloaders[phase]:\n",
        "                inputs = inputs.to(device)\n",
        "                labels = labels.to(device)\n",
        "\n",
        "                # zero the parameter gradients\n",
        "                optimizer.zero_grad()\n",
        "\n",
        "                # forward\n",
        "                # track history if only in train\n",
        "                with torch.set_grad_enabled(phase == 'train'):\n",
        "                    # Get model outputs and calculate loss\n",
        "                    # Special case for inception because in training it has an auxiliary output. In train\n",
        "                    #   mode we calculate the loss by summing the final output and the auxiliary output\n",
        "                    #   but in testing we only consider the final output.\n",
        "                    if is_inception and phase == 'train':\n",
        "                        # From https://discuss.pytorch.org/t/how-to-optimize-inception-model-with-auxiliary-classifiers/7958\n",
        "                        outputs, aux_outputs = model(inputs)\n",
        "                        loss1 = criterion(outputs, labels)\n",
        "                        loss2 = criterion(aux_outputs, labels)\n",
        "                        loss = loss1 + 0.4*loss2\n",
        "                    else:\n",
        "                        outputs = model(inputs)\n",
        "                        loss = criterion(outputs, labels)\n",
        "\n",
        "                    _, preds = torch.max(outputs, 1)\n",
        "\n",
        "                    # backward + optimize only if in training phase\n",
        "                    if phase == 'train':\n",
        "                        loss.backward()\n",
        "                        optimizer.step()\n",
        "\n",
        "                # statistics\n",
        "                running_loss += loss.item() * inputs.size(0)\n",
        "                running_corrects += torch.sum(preds == labels.data)\n",
        "\n",
        "            epoch_loss = running_loss / len(dataloaders[phase].dataset)\n",
        "            epoch_acc = running_corrects.double() / len(dataloaders[phase].dataset)\n",
        "\n",
        "            print('{} Loss: {:.4f} Acc: {:.4f}'.format(phase, epoch_loss, epoch_acc))\n",
        "\n",
        "            # deep copy the model\n",
        "            if phase == 'val' and epoch_acc > best_acc:\n",
        "                best_acc = epoch_acc\n",
        "                best_model_wts = copy.deepcopy(model.state_dict())\n",
        "            if phase == 'val':\n",
        "                val_acc_history.append(epoch_acc)\n",
        "\n",
        "        print()\n",
        "\n",
        "    time_elapsed = time.time() - since\n",
        "    print('Training complete in {:.0f}m {:.0f}s'.format(time_elapsed // 60, time_elapsed % 60))\n",
        "    print('Best val Acc: {:4f}'.format(best_acc))\n",
        "\n",
        "    # load best model weights\n",
        "    model.load_state_dict(best_model_wts)\n",
        "    return model, val_acc_history"
      ]
    },
    {
      "cell_type": "markdown",
      "metadata": {
        "id": "EQUOvUfSNrP-"
      },
      "source": [
        "next, define the set_parameter_requires_grad() function.\n",
        "\n",
        "When performing feature extracting, we do not update the model's weights from prior training. We only update the new top layer added.\n",
        "\n",
        "When performing finetuning, we update all the weights for all the layers."
      ]
    },
    {
      "cell_type": "code",
      "execution_count": 33,
      "metadata": {
        "id": "vEAZQJsoEU28"
      },
      "outputs": [],
      "source": [
        "def set_parameter_requires_grad(model, feature_extracting):\n",
        "    if feature_extracting:\n",
        "        for param in model.parameters():\n",
        "            param.requires_grad = False"
      ]
    },
    {
      "cell_type": "markdown",
      "metadata": {
        "id": "jdIqYIsdOd62"
      },
      "source": [
        "Define the initialize_model function here, you do not need to include all the categories , simply include the one or more relevant to the model you are using."
      ]
    },
    {
      "cell_type": "code",
      "execution_count": 34,
      "metadata": {
        "id": "UHtbeczWAU53",
        "colab": {
          "base_uri": "https://localhost:8080/"
        },
        "outputId": "1d2a84bf-570b-42a1-af21-f01134aa6b7d"
      },
      "outputs": [
        {
          "output_type": "stream",
          "name": "stdout",
          "text": [
            "ResNet(\n",
            "  (conv1): Conv2d(3, 64, kernel_size=(7, 7), stride=(2, 2), padding=(3, 3), bias=False)\n",
            "  (bn1): BatchNorm2d(64, eps=1e-05, momentum=0.1, affine=True, track_running_stats=True)\n",
            "  (relu): ReLU(inplace=True)\n",
            "  (maxpool): MaxPool2d(kernel_size=3, stride=2, padding=1, dilation=1, ceil_mode=False)\n",
            "  (layer1): Sequential(\n",
            "    (0): BasicBlock(\n",
            "      (conv1): Conv2d(64, 64, kernel_size=(3, 3), stride=(1, 1), padding=(1, 1), bias=False)\n",
            "      (bn1): BatchNorm2d(64, eps=1e-05, momentum=0.1, affine=True, track_running_stats=True)\n",
            "      (relu): ReLU(inplace=True)\n",
            "      (conv2): Conv2d(64, 64, kernel_size=(3, 3), stride=(1, 1), padding=(1, 1), bias=False)\n",
            "      (bn2): BatchNorm2d(64, eps=1e-05, momentum=0.1, affine=True, track_running_stats=True)\n",
            "    )\n",
            "    (1): BasicBlock(\n",
            "      (conv1): Conv2d(64, 64, kernel_size=(3, 3), stride=(1, 1), padding=(1, 1), bias=False)\n",
            "      (bn1): BatchNorm2d(64, eps=1e-05, momentum=0.1, affine=True, track_running_stats=True)\n",
            "      (relu): ReLU(inplace=True)\n",
            "      (conv2): Conv2d(64, 64, kernel_size=(3, 3), stride=(1, 1), padding=(1, 1), bias=False)\n",
            "      (bn2): BatchNorm2d(64, eps=1e-05, momentum=0.1, affine=True, track_running_stats=True)\n",
            "    )\n",
            "  )\n",
            "  (layer2): Sequential(\n",
            "    (0): BasicBlock(\n",
            "      (conv1): Conv2d(64, 128, kernel_size=(3, 3), stride=(2, 2), padding=(1, 1), bias=False)\n",
            "      (bn1): BatchNorm2d(128, eps=1e-05, momentum=0.1, affine=True, track_running_stats=True)\n",
            "      (relu): ReLU(inplace=True)\n",
            "      (conv2): Conv2d(128, 128, kernel_size=(3, 3), stride=(1, 1), padding=(1, 1), bias=False)\n",
            "      (bn2): BatchNorm2d(128, eps=1e-05, momentum=0.1, affine=True, track_running_stats=True)\n",
            "      (downsample): Sequential(\n",
            "        (0): Conv2d(64, 128, kernel_size=(1, 1), stride=(2, 2), bias=False)\n",
            "        (1): BatchNorm2d(128, eps=1e-05, momentum=0.1, affine=True, track_running_stats=True)\n",
            "      )\n",
            "    )\n",
            "    (1): BasicBlock(\n",
            "      (conv1): Conv2d(128, 128, kernel_size=(3, 3), stride=(1, 1), padding=(1, 1), bias=False)\n",
            "      (bn1): BatchNorm2d(128, eps=1e-05, momentum=0.1, affine=True, track_running_stats=True)\n",
            "      (relu): ReLU(inplace=True)\n",
            "      (conv2): Conv2d(128, 128, kernel_size=(3, 3), stride=(1, 1), padding=(1, 1), bias=False)\n",
            "      (bn2): BatchNorm2d(128, eps=1e-05, momentum=0.1, affine=True, track_running_stats=True)\n",
            "    )\n",
            "  )\n",
            "  (layer3): Sequential(\n",
            "    (0): BasicBlock(\n",
            "      (conv1): Conv2d(128, 256, kernel_size=(3, 3), stride=(2, 2), padding=(1, 1), bias=False)\n",
            "      (bn1): BatchNorm2d(256, eps=1e-05, momentum=0.1, affine=True, track_running_stats=True)\n",
            "      (relu): ReLU(inplace=True)\n",
            "      (conv2): Conv2d(256, 256, kernel_size=(3, 3), stride=(1, 1), padding=(1, 1), bias=False)\n",
            "      (bn2): BatchNorm2d(256, eps=1e-05, momentum=0.1, affine=True, track_running_stats=True)\n",
            "      (downsample): Sequential(\n",
            "        (0): Conv2d(128, 256, kernel_size=(1, 1), stride=(2, 2), bias=False)\n",
            "        (1): BatchNorm2d(256, eps=1e-05, momentum=0.1, affine=True, track_running_stats=True)\n",
            "      )\n",
            "    )\n",
            "    (1): BasicBlock(\n",
            "      (conv1): Conv2d(256, 256, kernel_size=(3, 3), stride=(1, 1), padding=(1, 1), bias=False)\n",
            "      (bn1): BatchNorm2d(256, eps=1e-05, momentum=0.1, affine=True, track_running_stats=True)\n",
            "      (relu): ReLU(inplace=True)\n",
            "      (conv2): Conv2d(256, 256, kernel_size=(3, 3), stride=(1, 1), padding=(1, 1), bias=False)\n",
            "      (bn2): BatchNorm2d(256, eps=1e-05, momentum=0.1, affine=True, track_running_stats=True)\n",
            "    )\n",
            "  )\n",
            "  (layer4): Sequential(\n",
            "    (0): BasicBlock(\n",
            "      (conv1): Conv2d(256, 512, kernel_size=(3, 3), stride=(2, 2), padding=(1, 1), bias=False)\n",
            "      (bn1): BatchNorm2d(512, eps=1e-05, momentum=0.1, affine=True, track_running_stats=True)\n",
            "      (relu): ReLU(inplace=True)\n",
            "      (conv2): Conv2d(512, 512, kernel_size=(3, 3), stride=(1, 1), padding=(1, 1), bias=False)\n",
            "      (bn2): BatchNorm2d(512, eps=1e-05, momentum=0.1, affine=True, track_running_stats=True)\n",
            "      (downsample): Sequential(\n",
            "        (0): Conv2d(256, 512, kernel_size=(1, 1), stride=(2, 2), bias=False)\n",
            "        (1): BatchNorm2d(512, eps=1e-05, momentum=0.1, affine=True, track_running_stats=True)\n",
            "      )\n",
            "    )\n",
            "    (1): BasicBlock(\n",
            "      (conv1): Conv2d(512, 512, kernel_size=(3, 3), stride=(1, 1), padding=(1, 1), bias=False)\n",
            "      (bn1): BatchNorm2d(512, eps=1e-05, momentum=0.1, affine=True, track_running_stats=True)\n",
            "      (relu): ReLU(inplace=True)\n",
            "      (conv2): Conv2d(512, 512, kernel_size=(3, 3), stride=(1, 1), padding=(1, 1), bias=False)\n",
            "      (bn2): BatchNorm2d(512, eps=1e-05, momentum=0.1, affine=True, track_running_stats=True)\n",
            "    )\n",
            "  )\n",
            "  (avgpool): AdaptiveAvgPool2d(output_size=(1, 1))\n",
            "  (fc): Linear(in_features=512, out_features=9, bias=True)\n",
            ")\n"
          ]
        }
      ],
      "source": [
        "def initialize_model(model_name, num_classes, feature_extract, use_pretrained=True):\n",
        "    # Initialize these variables which will be set in this if statement. Each of these\n",
        "    #   variables is model specific.\n",
        "    model_ft = None\n",
        "    input_size = 0\n",
        "\n",
        "    if model_name == \"resnet\":\n",
        "        \"\"\" Resnet18\n",
        "        \"\"\"\n",
        "        model_ft = models.resnet18(pretrained=use_pretrained)\n",
        "        set_parameter_requires_grad(model_ft, feature_extract)\n",
        "        num_ftrs = model_ft.fc.in_features\n",
        "        model_ft.fc = nn.Linear(num_ftrs, num_classes)\n",
        "        input_size = 224\n",
        "    else:\n",
        "        print(\"Invalid model name, exiting...\")\n",
        "        exit()\n",
        "\n",
        "    return model_ft, input_size\n",
        "\n",
        "# Initialize the model for this run\n",
        "model_ft, input_size = initialize_model(\"resnet\", num_classes, feature_extract, use_pretrained=True)\n",
        "\n",
        "# Print the model we just instantiated\n",
        "print(model_ft)"
      ]
    },
    {
      "cell_type": "markdown",
      "metadata": {
        "id": "PWsN7rEOPSAx"
      },
      "source": [
        "### Creating Optimizer"
      ]
    },
    {
      "cell_type": "markdown",
      "metadata": {
        "id": "wK6povE-xd4u"
      },
      "source": [
        "We have to send the model to our device, which could be the GPU or CPU.\n"
      ]
    },
    {
      "cell_type": "code",
      "execution_count": 35,
      "metadata": {
        "id": "tsmP0js4xTvD"
      },
      "outputs": [],
      "source": [
        "# Send the model to GPU\n",
        "# device = torch.device(\"cuda:0\" if torch.cuda.is_available() else \"cpu\")\n",
        "#Code here\n",
        "model_ft = model_ft.to(device)"
      ]
    },
    {
      "cell_type": "markdown",
      "metadata": {
        "id": "C23FYAM5PUKI"
      },
      "source": [
        "\n",
        "We also have to define an optimizer which updates only relevant parameters.\n",
        "For instance, when performing **feature extraction**, recall that only top new layer(s) are to be updated. So you'll only see `fc.weight` and `fc.bias` as layers to be updated.\n",
        "\n",
        "When performing **finetuning**, all the layers will be updated so you'll see a long list of layers printed out if `feature_extract=None`\n",
        "\n",
        " this piece of code from the referenced tutorial will help make sure that only relevant layers have `.requires_grad=True` "
      ]
    },
    {
      "cell_type": "code",
      "execution_count": 36,
      "metadata": {
        "colab": {
          "base_uri": "https://localhost:8080/"
        },
        "id": "fpNW0yTOEwCO",
        "outputId": "f205c5b3-7045-41bf-d85f-a1de55fc46b9"
      },
      "outputs": [
        {
          "output_type": "stream",
          "name": "stdout",
          "text": [
            "Params to learn:\n",
            "feature extraction\n",
            "\t fc.weight\n",
            "\t fc.bias\n"
          ]
        }
      ],
      "source": [
        "\n",
        "params_to_update = model_ft.parameters()\n",
        "print(\"Params to learn:\")\n",
        "if feature_extract:\n",
        "    print('feature extraction')\n",
        "    params_to_update = []\n",
        "    for name,param in model_ft.named_parameters():\n",
        "        if param.requires_grad == True:\n",
        "            params_to_update.append(param)\n",
        "            print(\"\\t\",name)\n",
        "else:\n",
        "    print('finetuning ')\n",
        "    for name,param in model_ft.named_parameters():\n",
        "        if param.requires_grad == True:\n",
        "            print(\"\\t\",name)\n",
        "\n"
      ]
    },
    {
      "cell_type": "code",
      "execution_count": 37,
      "metadata": {
        "id": "2-GnxYOcxqEx"
      },
      "outputs": [],
      "source": [
        "optimizer_ft = optim.SGD(params_to_update, lr=0.001, momentum=0.9)\n",
        "# Observe that all parameters are being optimized\n",
        "#Code here"
      ]
    },
    {
      "cell_type": "markdown",
      "metadata": {
        "id": "SRqlh8WLQ86C"
      },
      "source": [
        "### Training the model\n"
      ]
    },
    {
      "cell_type": "markdown",
      "metadata": {
        "id": "6ynfgemwQ_cJ"
      },
      "source": [
        "Now we use the function defined above tp train the model."
      ]
    },
    {
      "cell_type": "code",
      "execution_count": 38,
      "metadata": {
        "colab": {
          "base_uri": "https://localhost:8080/"
        },
        "id": "m6L7cApWRD5o",
        "outputId": "217a3889-6094-4675-8162-01e2ccf89822"
      },
      "outputs": [
        {
          "output_type": "stream",
          "name": "stdout",
          "text": [
            "Epoch 0/29\n",
            "----------\n",
            "train Loss: 1.9344 Acc: 0.3105\n",
            "val Loss: 1.5345 Acc: 0.5192\n",
            "\n",
            "Epoch 1/29\n",
            "----------\n",
            "train Loss: 1.4976 Acc: 0.5048\n",
            "val Loss: 1.3806 Acc: 0.5635\n",
            "\n",
            "Epoch 2/29\n",
            "----------\n",
            "train Loss: 1.3694 Acc: 0.5507\n",
            "val Loss: 1.3146 Acc: 0.5712\n",
            "\n",
            "Epoch 3/29\n",
            "----------\n",
            "train Loss: 1.2779 Acc: 0.5780\n",
            "val Loss: 1.2756 Acc: 0.5788\n",
            "\n",
            "Epoch 4/29\n",
            "----------\n",
            "train Loss: 1.2310 Acc: 0.5859\n",
            "val Loss: 1.2556 Acc: 0.5750\n",
            "\n",
            "Epoch 5/29\n",
            "----------\n",
            "train Loss: 1.2113 Acc: 0.5973\n",
            "val Loss: 1.2576 Acc: 0.5904\n",
            "\n",
            "Epoch 6/29\n",
            "----------\n",
            "train Loss: 1.1635 Acc: 0.6210\n",
            "val Loss: 1.2532 Acc: 0.5731\n",
            "\n",
            "Epoch 7/29\n",
            "----------\n",
            "train Loss: 1.1615 Acc: 0.6210\n",
            "val Loss: 1.2644 Acc: 0.5981\n",
            "\n",
            "Epoch 8/29\n",
            "----------\n",
            "train Loss: 1.1140 Acc: 0.6307\n",
            "val Loss: 1.2616 Acc: 0.5923\n",
            "\n",
            "Epoch 9/29\n",
            "----------\n",
            "train Loss: 1.1205 Acc: 0.6285\n",
            "val Loss: 1.2351 Acc: 0.5981\n",
            "\n",
            "Epoch 10/29\n",
            "----------\n",
            "train Loss: 1.0885 Acc: 0.6361\n",
            "val Loss: 1.2449 Acc: 0.5923\n",
            "\n",
            "Epoch 11/29\n",
            "----------\n",
            "train Loss: 1.0805 Acc: 0.6346\n",
            "val Loss: 1.2314 Acc: 0.5923\n",
            "\n",
            "Epoch 12/29\n",
            "----------\n",
            "train Loss: 1.0872 Acc: 0.6418\n",
            "val Loss: 1.2670 Acc: 0.6019\n",
            "\n",
            "Epoch 13/29\n",
            "----------\n",
            "train Loss: 1.0766 Acc: 0.6518\n",
            "val Loss: 1.2489 Acc: 0.5865\n",
            "\n",
            "Epoch 14/29\n",
            "----------\n",
            "train Loss: 1.0627 Acc: 0.6407\n",
            "val Loss: 1.2352 Acc: 0.5885\n",
            "\n",
            "Epoch 15/29\n",
            "----------\n",
            "train Loss: 1.0503 Acc: 0.6397\n",
            "val Loss: 1.2616 Acc: 0.5904\n",
            "\n",
            "Epoch 16/29\n",
            "----------\n",
            "train Loss: 1.0462 Acc: 0.6508\n",
            "val Loss: 1.2388 Acc: 0.6038\n",
            "\n",
            "Epoch 17/29\n",
            "----------\n",
            "train Loss: 1.0297 Acc: 0.6486\n",
            "val Loss: 1.2802 Acc: 0.5808\n",
            "\n",
            "Epoch 18/29\n",
            "----------\n",
            "train Loss: 1.0132 Acc: 0.6572\n",
            "val Loss: 1.2598 Acc: 0.5885\n",
            "\n",
            "Epoch 19/29\n",
            "----------\n",
            "train Loss: 1.0101 Acc: 0.6662\n",
            "val Loss: 1.2527 Acc: 0.5885\n",
            "\n",
            "Epoch 20/29\n",
            "----------\n",
            "train Loss: 1.0195 Acc: 0.6579\n",
            "val Loss: 1.2424 Acc: 0.5962\n",
            "\n",
            "Epoch 21/29\n",
            "----------\n",
            "train Loss: 1.0043 Acc: 0.6669\n",
            "val Loss: 1.2605 Acc: 0.5923\n",
            "\n",
            "Epoch 22/29\n",
            "----------\n",
            "train Loss: 1.0080 Acc: 0.6662\n",
            "val Loss: 1.2317 Acc: 0.6058\n",
            "\n",
            "Epoch 23/29\n",
            "----------\n",
            "train Loss: 1.0048 Acc: 0.6665\n",
            "val Loss: 1.2646 Acc: 0.5942\n",
            "\n",
            "Epoch 24/29\n",
            "----------\n",
            "train Loss: 0.9810 Acc: 0.6676\n",
            "val Loss: 1.2542 Acc: 0.5904\n",
            "\n",
            "Epoch 25/29\n",
            "----------\n",
            "train Loss: 0.9868 Acc: 0.6665\n",
            "val Loss: 1.2624 Acc: 0.5808\n",
            "\n",
            "Epoch 26/29\n",
            "----------\n",
            "train Loss: 0.9642 Acc: 0.6805\n",
            "val Loss: 1.2549 Acc: 0.5885\n",
            "\n",
            "Epoch 27/29\n",
            "----------\n",
            "train Loss: 0.9999 Acc: 0.6651\n",
            "val Loss: 1.2577 Acc: 0.5904\n",
            "\n",
            "Epoch 28/29\n",
            "----------\n",
            "train Loss: 0.9812 Acc: 0.6698\n",
            "val Loss: 1.2869 Acc: 0.5981\n",
            "\n",
            "Epoch 29/29\n",
            "----------\n",
            "train Loss: 0.9709 Acc: 0.6644\n",
            "val Loss: 1.3089 Acc: 0.5788\n",
            "\n",
            "Training complete in 4m 21s\n",
            "Best val Acc: 0.605769\n"
          ]
        }
      ],
      "source": [
        "# Setup the loss fxn\n",
        "#Code here\n",
        "criterion = nn.CrossEntropyLoss()\n",
        "\n",
        "# Train and evaluate\n",
        "#Code here\n",
        "model_ft, hist = train_model(model_ft, dataloaders_dict, criterion, optimizer_ft, num_epochs=num_epochs, is_inception=False)\n"
      ]
    },
    {
      "cell_type": "markdown",
      "metadata": {
        "id": "oHVA-aKtRW3K"
      },
      "source": [
        "### Finetuning"
      ]
    },
    {
      "cell_type": "markdown",
      "metadata": {
        "id": "W8OIEWauRamV"
      },
      "source": [
        "We will now perform finetuning, let's initialize a new model"
      ]
    },
    {
      "cell_type": "code",
      "execution_count": 15,
      "metadata": {
        "colab": {
          "base_uri": "https://localhost:8080/"
        },
        "id": "uQ3BC59yR1p5",
        "outputId": "45603b1f-6cac-43d3-b81f-cf07d5d6948d"
      },
      "outputs": [
        {
          "output_type": "stream",
          "name": "stdout",
          "text": [
            "ResNet(\n",
            "  (conv1): Conv2d(3, 64, kernel_size=(7, 7), stride=(2, 2), padding=(3, 3), bias=False)\n",
            "  (bn1): BatchNorm2d(64, eps=1e-05, momentum=0.1, affine=True, track_running_stats=True)\n",
            "  (relu): ReLU(inplace=True)\n",
            "  (maxpool): MaxPool2d(kernel_size=3, stride=2, padding=1, dilation=1, ceil_mode=False)\n",
            "  (layer1): Sequential(\n",
            "    (0): BasicBlock(\n",
            "      (conv1): Conv2d(64, 64, kernel_size=(3, 3), stride=(1, 1), padding=(1, 1), bias=False)\n",
            "      (bn1): BatchNorm2d(64, eps=1e-05, momentum=0.1, affine=True, track_running_stats=True)\n",
            "      (relu): ReLU(inplace=True)\n",
            "      (conv2): Conv2d(64, 64, kernel_size=(3, 3), stride=(1, 1), padding=(1, 1), bias=False)\n",
            "      (bn2): BatchNorm2d(64, eps=1e-05, momentum=0.1, affine=True, track_running_stats=True)\n",
            "    )\n",
            "    (1): BasicBlock(\n",
            "      (conv1): Conv2d(64, 64, kernel_size=(3, 3), stride=(1, 1), padding=(1, 1), bias=False)\n",
            "      (bn1): BatchNorm2d(64, eps=1e-05, momentum=0.1, affine=True, track_running_stats=True)\n",
            "      (relu): ReLU(inplace=True)\n",
            "      (conv2): Conv2d(64, 64, kernel_size=(3, 3), stride=(1, 1), padding=(1, 1), bias=False)\n",
            "      (bn2): BatchNorm2d(64, eps=1e-05, momentum=0.1, affine=True, track_running_stats=True)\n",
            "    )\n",
            "  )\n",
            "  (layer2): Sequential(\n",
            "    (0): BasicBlock(\n",
            "      (conv1): Conv2d(64, 128, kernel_size=(3, 3), stride=(2, 2), padding=(1, 1), bias=False)\n",
            "      (bn1): BatchNorm2d(128, eps=1e-05, momentum=0.1, affine=True, track_running_stats=True)\n",
            "      (relu): ReLU(inplace=True)\n",
            "      (conv2): Conv2d(128, 128, kernel_size=(3, 3), stride=(1, 1), padding=(1, 1), bias=False)\n",
            "      (bn2): BatchNorm2d(128, eps=1e-05, momentum=0.1, affine=True, track_running_stats=True)\n",
            "      (downsample): Sequential(\n",
            "        (0): Conv2d(64, 128, kernel_size=(1, 1), stride=(2, 2), bias=False)\n",
            "        (1): BatchNorm2d(128, eps=1e-05, momentum=0.1, affine=True, track_running_stats=True)\n",
            "      )\n",
            "    )\n",
            "    (1): BasicBlock(\n",
            "      (conv1): Conv2d(128, 128, kernel_size=(3, 3), stride=(1, 1), padding=(1, 1), bias=False)\n",
            "      (bn1): BatchNorm2d(128, eps=1e-05, momentum=0.1, affine=True, track_running_stats=True)\n",
            "      (relu): ReLU(inplace=True)\n",
            "      (conv2): Conv2d(128, 128, kernel_size=(3, 3), stride=(1, 1), padding=(1, 1), bias=False)\n",
            "      (bn2): BatchNorm2d(128, eps=1e-05, momentum=0.1, affine=True, track_running_stats=True)\n",
            "    )\n",
            "  )\n",
            "  (layer3): Sequential(\n",
            "    (0): BasicBlock(\n",
            "      (conv1): Conv2d(128, 256, kernel_size=(3, 3), stride=(2, 2), padding=(1, 1), bias=False)\n",
            "      (bn1): BatchNorm2d(256, eps=1e-05, momentum=0.1, affine=True, track_running_stats=True)\n",
            "      (relu): ReLU(inplace=True)\n",
            "      (conv2): Conv2d(256, 256, kernel_size=(3, 3), stride=(1, 1), padding=(1, 1), bias=False)\n",
            "      (bn2): BatchNorm2d(256, eps=1e-05, momentum=0.1, affine=True, track_running_stats=True)\n",
            "      (downsample): Sequential(\n",
            "        (0): Conv2d(128, 256, kernel_size=(1, 1), stride=(2, 2), bias=False)\n",
            "        (1): BatchNorm2d(256, eps=1e-05, momentum=0.1, affine=True, track_running_stats=True)\n",
            "      )\n",
            "    )\n",
            "    (1): BasicBlock(\n",
            "      (conv1): Conv2d(256, 256, kernel_size=(3, 3), stride=(1, 1), padding=(1, 1), bias=False)\n",
            "      (bn1): BatchNorm2d(256, eps=1e-05, momentum=0.1, affine=True, track_running_stats=True)\n",
            "      (relu): ReLU(inplace=True)\n",
            "      (conv2): Conv2d(256, 256, kernel_size=(3, 3), stride=(1, 1), padding=(1, 1), bias=False)\n",
            "      (bn2): BatchNorm2d(256, eps=1e-05, momentum=0.1, affine=True, track_running_stats=True)\n",
            "    )\n",
            "  )\n",
            "  (layer4): Sequential(\n",
            "    (0): BasicBlock(\n",
            "      (conv1): Conv2d(256, 512, kernel_size=(3, 3), stride=(2, 2), padding=(1, 1), bias=False)\n",
            "      (bn1): BatchNorm2d(512, eps=1e-05, momentum=0.1, affine=True, track_running_stats=True)\n",
            "      (relu): ReLU(inplace=True)\n",
            "      (conv2): Conv2d(512, 512, kernel_size=(3, 3), stride=(1, 1), padding=(1, 1), bias=False)\n",
            "      (bn2): BatchNorm2d(512, eps=1e-05, momentum=0.1, affine=True, track_running_stats=True)\n",
            "      (downsample): Sequential(\n",
            "        (0): Conv2d(256, 512, kernel_size=(1, 1), stride=(2, 2), bias=False)\n",
            "        (1): BatchNorm2d(512, eps=1e-05, momentum=0.1, affine=True, track_running_stats=True)\n",
            "      )\n",
            "    )\n",
            "    (1): BasicBlock(\n",
            "      (conv1): Conv2d(512, 512, kernel_size=(3, 3), stride=(1, 1), padding=(1, 1), bias=False)\n",
            "      (bn1): BatchNorm2d(512, eps=1e-05, momentum=0.1, affine=True, track_running_stats=True)\n",
            "      (relu): ReLU(inplace=True)\n",
            "      (conv2): Conv2d(512, 512, kernel_size=(3, 3), stride=(1, 1), padding=(1, 1), bias=False)\n",
            "      (bn2): BatchNorm2d(512, eps=1e-05, momentum=0.1, affine=True, track_running_stats=True)\n",
            "    )\n",
            "  )\n",
            "  (avgpool): AdaptiveAvgPool2d(output_size=(1, 1))\n",
            "  (fc): Linear(in_features=512, out_features=9, bias=True)\n",
            ")\n"
          ]
        }
      ],
      "source": [
        "#Code here\n",
        "# Initialize the model for this run\n",
        "feature_extract=False\n",
        "model_ft2, input_size = initialize_model(\"resnet\", num_classes, feature_extract, use_pretrained=True)\n",
        "\n",
        "# Print the model we just instantiated\n",
        "print(model_ft2)"
      ]
    },
    {
      "cell_type": "code",
      "execution_count": 16,
      "metadata": {
        "id": "-Y_JmJK5yZZm"
      },
      "outputs": [],
      "source": [
        "# Send the model to GPU\n",
        "#Code here\n",
        "model_ft2 = model_ft2.to(device)"
      ]
    },
    {
      "cell_type": "markdown",
      "metadata": {
        "id": "u5frEFuwSMWJ"
      },
      "source": [
        "Now set `feature_extraction=False`, and run this code again, you should see a long list of layers printed.\n",
        "\n",
        "Recall the difference between finetuning and feature extraction\n",
        "\n",
        "\n",
        "tip: set the learning rate much lower for finetuning."
      ]
    },
    {
      "cell_type": "code",
      "execution_count": 17,
      "metadata": {
        "id": "eJvftJGVStbb"
      },
      "outputs": [],
      "source": [
        "feature_extract=False"
      ]
    },
    {
      "cell_type": "code",
      "execution_count": 21,
      "metadata": {
        "colab": {
          "base_uri": "https://localhost:8080/"
        },
        "id": "I0oMLdyOSlnf",
        "outputId": "2f6901cf-bcd7-4e61-9262-be467a61ab78"
      },
      "outputs": [
        {
          "output_type": "stream",
          "name": "stdout",
          "text": [
            "Params to learn:\n",
            "finetuning \n",
            "\t conv1.weight\n",
            "\t bn1.weight\n",
            "\t bn1.bias\n",
            "\t layer1.0.conv1.weight\n",
            "\t layer1.0.bn1.weight\n",
            "\t layer1.0.bn1.bias\n",
            "\t layer1.0.conv2.weight\n",
            "\t layer1.0.bn2.weight\n",
            "\t layer1.0.bn2.bias\n",
            "\t layer1.1.conv1.weight\n",
            "\t layer1.1.bn1.weight\n",
            "\t layer1.1.bn1.bias\n",
            "\t layer1.1.conv2.weight\n",
            "\t layer1.1.bn2.weight\n",
            "\t layer1.1.bn2.bias\n",
            "\t layer2.0.conv1.weight\n",
            "\t layer2.0.bn1.weight\n",
            "\t layer2.0.bn1.bias\n",
            "\t layer2.0.conv2.weight\n",
            "\t layer2.0.bn2.weight\n",
            "\t layer2.0.bn2.bias\n",
            "\t layer2.0.downsample.0.weight\n",
            "\t layer2.0.downsample.1.weight\n",
            "\t layer2.0.downsample.1.bias\n",
            "\t layer2.1.conv1.weight\n",
            "\t layer2.1.bn1.weight\n",
            "\t layer2.1.bn1.bias\n",
            "\t layer2.1.conv2.weight\n",
            "\t layer2.1.bn2.weight\n",
            "\t layer2.1.bn2.bias\n",
            "\t layer3.0.conv1.weight\n",
            "\t layer3.0.bn1.weight\n",
            "\t layer3.0.bn1.bias\n",
            "\t layer3.0.conv2.weight\n",
            "\t layer3.0.bn2.weight\n",
            "\t layer3.0.bn2.bias\n",
            "\t layer3.0.downsample.0.weight\n",
            "\t layer3.0.downsample.1.weight\n",
            "\t layer3.0.downsample.1.bias\n",
            "\t layer3.1.conv1.weight\n",
            "\t layer3.1.bn1.weight\n",
            "\t layer3.1.bn1.bias\n",
            "\t layer3.1.conv2.weight\n",
            "\t layer3.1.bn2.weight\n",
            "\t layer3.1.bn2.bias\n",
            "\t layer4.0.conv1.weight\n",
            "\t layer4.0.bn1.weight\n",
            "\t layer4.0.bn1.bias\n",
            "\t layer4.0.conv2.weight\n",
            "\t layer4.0.bn2.weight\n",
            "\t layer4.0.bn2.bias\n",
            "\t layer4.0.downsample.0.weight\n",
            "\t layer4.0.downsample.1.weight\n",
            "\t layer4.0.downsample.1.bias\n",
            "\t layer4.1.conv1.weight\n",
            "\t layer4.1.bn1.weight\n",
            "\t layer4.1.bn1.bias\n",
            "\t layer4.1.conv2.weight\n",
            "\t layer4.1.bn2.weight\n",
            "\t layer4.1.bn2.bias\n",
            "\t fc.weight\n",
            "\t fc.bias\n"
          ]
        }
      ],
      "source": [
        "\n",
        "\n",
        "params_to_update = model_ft2.parameters()\n",
        "print(\"Params to learn:\")\n",
        "if feature_extract:\n",
        "    print('feature extraction')\n",
        "    params_to_update = []\n",
        "    for name,param in model_ft2.named_parameters():\n",
        "        if param.requires_grad == True:\n",
        "            params_to_update.append(param)\n",
        "            print(\"\\t\",name)\n",
        "else:\n",
        "    print('finetuning ')\n",
        "    for name,param in model_ft2.named_parameters():\n",
        "        if param.requires_grad == True:\n",
        "            print(\"\\t\",name)\n",
        "\n"
      ]
    },
    {
      "cell_type": "markdown",
      "metadata": {
        "id": "gKyHB6dtTD85"
      },
      "source": [
        "now repeat the above process to train the model."
      ]
    },
    {
      "cell_type": "code",
      "execution_count": 22,
      "metadata": {
        "colab": {
          "base_uri": "https://localhost:8080/"
        },
        "id": "-GggukfATVPF",
        "outputId": "f9ec4421-9ccf-4511-d092-a0b274d87fc6"
      },
      "outputs": [
        {
          "output_type": "stream",
          "name": "stdout",
          "text": [
            "Epoch 0/29\n",
            "----------\n",
            "train Loss: 1.6858 Acc: 0.4059\n",
            "val Loss: 1.1907 Acc: 0.5904\n",
            "\n",
            "Epoch 1/29\n",
            "----------\n",
            "train Loss: 0.9511 Acc: 0.6942\n",
            "val Loss: 1.0875 Acc: 0.6481\n",
            "\n",
            "Epoch 2/29\n",
            "----------\n",
            "train Loss: 0.5847 Acc: 0.8211\n",
            "val Loss: 1.1626 Acc: 0.6442\n",
            "\n",
            "Epoch 3/29\n",
            "----------\n",
            "train Loss: 0.3527 Acc: 0.9043\n",
            "val Loss: 1.2030 Acc: 0.6692\n",
            "\n",
            "Epoch 4/29\n",
            "----------\n",
            "train Loss: 0.2202 Acc: 0.9484\n",
            "val Loss: 1.2220 Acc: 0.6788\n",
            "\n",
            "Epoch 5/29\n",
            "----------\n",
            "train Loss: 0.1617 Acc: 0.9624\n",
            "val Loss: 1.2658 Acc: 0.6673\n",
            "\n",
            "Epoch 6/29\n",
            "----------\n",
            "train Loss: 0.1264 Acc: 0.9688\n",
            "val Loss: 1.2798 Acc: 0.6885\n",
            "\n",
            "Epoch 7/29\n",
            "----------\n",
            "train Loss: 0.1056 Acc: 0.9702\n",
            "val Loss: 1.3024 Acc: 0.6827\n",
            "\n",
            "Epoch 8/29\n",
            "----------\n",
            "train Loss: 0.0974 Acc: 0.9720\n",
            "val Loss: 1.3047 Acc: 0.6846\n",
            "\n",
            "Epoch 9/29\n",
            "----------\n",
            "train Loss: 0.0878 Acc: 0.9745\n",
            "val Loss: 1.3295 Acc: 0.6923\n",
            "\n",
            "Epoch 10/29\n",
            "----------\n",
            "train Loss: 0.0796 Acc: 0.9738\n",
            "val Loss: 1.3499 Acc: 0.6731\n",
            "\n",
            "Epoch 11/29\n",
            "----------\n",
            "train Loss: 0.0773 Acc: 0.9760\n",
            "val Loss: 1.3104 Acc: 0.6885\n",
            "\n",
            "Epoch 12/29\n",
            "----------\n",
            "train Loss: 0.0643 Acc: 0.9753\n",
            "val Loss: 1.3699 Acc: 0.6923\n",
            "\n",
            "Epoch 13/29\n",
            "----------\n",
            "train Loss: 0.0668 Acc: 0.9738\n",
            "val Loss: 1.3530 Acc: 0.6904\n",
            "\n",
            "Epoch 14/29\n",
            "----------\n",
            "train Loss: 0.0608 Acc: 0.9767\n",
            "val Loss: 1.4365 Acc: 0.6904\n",
            "\n",
            "Epoch 15/29\n",
            "----------\n",
            "train Loss: 0.0569 Acc: 0.9763\n",
            "val Loss: 1.4144 Acc: 0.6981\n",
            "\n",
            "Epoch 16/29\n",
            "----------\n",
            "train Loss: 0.0565 Acc: 0.9760\n",
            "val Loss: 1.4386 Acc: 0.6942\n",
            "\n",
            "Epoch 17/29\n",
            "----------\n",
            "train Loss: 0.0574 Acc: 0.9756\n",
            "val Loss: 1.4448 Acc: 0.7058\n",
            "\n",
            "Epoch 18/29\n",
            "----------\n",
            "train Loss: 0.0533 Acc: 0.9742\n",
            "val Loss: 1.4289 Acc: 0.7000\n",
            "\n",
            "Epoch 19/29\n",
            "----------\n",
            "train Loss: 0.0570 Acc: 0.9763\n",
            "val Loss: 1.4739 Acc: 0.6846\n",
            "\n",
            "Epoch 20/29\n",
            "----------\n",
            "train Loss: 0.0513 Acc: 0.9753\n",
            "val Loss: 1.4549 Acc: 0.6865\n",
            "\n",
            "Epoch 21/29\n",
            "----------\n",
            "train Loss: 0.0499 Acc: 0.9749\n",
            "val Loss: 1.5350 Acc: 0.6596\n",
            "\n",
            "Epoch 22/29\n",
            "----------\n",
            "train Loss: 0.0508 Acc: 0.9749\n",
            "val Loss: 1.5031 Acc: 0.6731\n",
            "\n",
            "Epoch 23/29\n",
            "----------\n",
            "train Loss: 0.0473 Acc: 0.9753\n",
            "val Loss: 1.5110 Acc: 0.6904\n",
            "\n",
            "Epoch 24/29\n",
            "----------\n",
            "train Loss: 0.0419 Acc: 0.9781\n",
            "val Loss: 1.5301 Acc: 0.6846\n",
            "\n",
            "Epoch 25/29\n",
            "----------\n",
            "train Loss: 0.0434 Acc: 0.9760\n",
            "val Loss: 1.5285 Acc: 0.7019\n",
            "\n",
            "Epoch 26/29\n",
            "----------\n",
            "train Loss: 0.0453 Acc: 0.9753\n",
            "val Loss: 1.5253 Acc: 0.6846\n",
            "\n",
            "Epoch 27/29\n",
            "----------\n",
            "train Loss: 0.0463 Acc: 0.9753\n",
            "val Loss: 1.5449 Acc: 0.6885\n",
            "\n",
            "Epoch 28/29\n",
            "----------\n",
            "train Loss: 0.0426 Acc: 0.9774\n",
            "val Loss: 1.5288 Acc: 0.6846\n",
            "\n",
            "Epoch 29/29\n",
            "----------\n",
            "train Loss: 0.0420 Acc: 0.9763\n",
            "val Loss: 1.5933 Acc: 0.6942\n",
            "\n",
            "Training complete in 11m 20s\n",
            "Best val Acc: 0.705769\n"
          ]
        }
      ],
      "source": [
        "#Code here\n",
        "criterion = nn.CrossEntropyLoss()\n",
        "optimizer_ft = optim.SGD(params_to_update, lr=0.001, momentum=0.9)\n",
        "model_ft2, hist2 = train_model(model_ft2, dataloaders_dict, criterion, optimizer_ft, num_epochs=num_epochs, is_inception=False)"
      ]
    },
    {
      "cell_type": "markdown",
      "metadata": {
        "id": "50iMjgPkUSe8"
      },
      "source": [
        "### Training from scratch"
      ]
    },
    {
      "cell_type": "markdown",
      "metadata": {
        "id": "C8_edbnPUWqB"
      },
      "source": [
        "Train a third model from scratch, similar as above.\n",
        "\n",
        "\n",
        "We won't have to worry about updating layers, simply set `use_pretrained=False` in initialize_model function, send model to device, define optimizer and loss and run training."
      ]
    },
    {
      "cell_type": "code",
      "execution_count": 24,
      "metadata": {
        "colab": {
          "base_uri": "https://localhost:8080/"
        },
        "id": "v-v_8ai1TzsQ",
        "outputId": "6729c6e2-1a49-49ea-8bb1-f82fadaa41aa"
      },
      "outputs": [
        {
          "output_type": "stream",
          "name": "stdout",
          "text": [
            "ResNet(\n",
            "  (conv1): Conv2d(3, 64, kernel_size=(7, 7), stride=(2, 2), padding=(3, 3), bias=False)\n",
            "  (bn1): BatchNorm2d(64, eps=1e-05, momentum=0.1, affine=True, track_running_stats=True)\n",
            "  (relu): ReLU(inplace=True)\n",
            "  (maxpool): MaxPool2d(kernel_size=3, stride=2, padding=1, dilation=1, ceil_mode=False)\n",
            "  (layer1): Sequential(\n",
            "    (0): BasicBlock(\n",
            "      (conv1): Conv2d(64, 64, kernel_size=(3, 3), stride=(1, 1), padding=(1, 1), bias=False)\n",
            "      (bn1): BatchNorm2d(64, eps=1e-05, momentum=0.1, affine=True, track_running_stats=True)\n",
            "      (relu): ReLU(inplace=True)\n",
            "      (conv2): Conv2d(64, 64, kernel_size=(3, 3), stride=(1, 1), padding=(1, 1), bias=False)\n",
            "      (bn2): BatchNorm2d(64, eps=1e-05, momentum=0.1, affine=True, track_running_stats=True)\n",
            "    )\n",
            "    (1): BasicBlock(\n",
            "      (conv1): Conv2d(64, 64, kernel_size=(3, 3), stride=(1, 1), padding=(1, 1), bias=False)\n",
            "      (bn1): BatchNorm2d(64, eps=1e-05, momentum=0.1, affine=True, track_running_stats=True)\n",
            "      (relu): ReLU(inplace=True)\n",
            "      (conv2): Conv2d(64, 64, kernel_size=(3, 3), stride=(1, 1), padding=(1, 1), bias=False)\n",
            "      (bn2): BatchNorm2d(64, eps=1e-05, momentum=0.1, affine=True, track_running_stats=True)\n",
            "    )\n",
            "  )\n",
            "  (layer2): Sequential(\n",
            "    (0): BasicBlock(\n",
            "      (conv1): Conv2d(64, 128, kernel_size=(3, 3), stride=(2, 2), padding=(1, 1), bias=False)\n",
            "      (bn1): BatchNorm2d(128, eps=1e-05, momentum=0.1, affine=True, track_running_stats=True)\n",
            "      (relu): ReLU(inplace=True)\n",
            "      (conv2): Conv2d(128, 128, kernel_size=(3, 3), stride=(1, 1), padding=(1, 1), bias=False)\n",
            "      (bn2): BatchNorm2d(128, eps=1e-05, momentum=0.1, affine=True, track_running_stats=True)\n",
            "      (downsample): Sequential(\n",
            "        (0): Conv2d(64, 128, kernel_size=(1, 1), stride=(2, 2), bias=False)\n",
            "        (1): BatchNorm2d(128, eps=1e-05, momentum=0.1, affine=True, track_running_stats=True)\n",
            "      )\n",
            "    )\n",
            "    (1): BasicBlock(\n",
            "      (conv1): Conv2d(128, 128, kernel_size=(3, 3), stride=(1, 1), padding=(1, 1), bias=False)\n",
            "      (bn1): BatchNorm2d(128, eps=1e-05, momentum=0.1, affine=True, track_running_stats=True)\n",
            "      (relu): ReLU(inplace=True)\n",
            "      (conv2): Conv2d(128, 128, kernel_size=(3, 3), stride=(1, 1), padding=(1, 1), bias=False)\n",
            "      (bn2): BatchNorm2d(128, eps=1e-05, momentum=0.1, affine=True, track_running_stats=True)\n",
            "    )\n",
            "  )\n",
            "  (layer3): Sequential(\n",
            "    (0): BasicBlock(\n",
            "      (conv1): Conv2d(128, 256, kernel_size=(3, 3), stride=(2, 2), padding=(1, 1), bias=False)\n",
            "      (bn1): BatchNorm2d(256, eps=1e-05, momentum=0.1, affine=True, track_running_stats=True)\n",
            "      (relu): ReLU(inplace=True)\n",
            "      (conv2): Conv2d(256, 256, kernel_size=(3, 3), stride=(1, 1), padding=(1, 1), bias=False)\n",
            "      (bn2): BatchNorm2d(256, eps=1e-05, momentum=0.1, affine=True, track_running_stats=True)\n",
            "      (downsample): Sequential(\n",
            "        (0): Conv2d(128, 256, kernel_size=(1, 1), stride=(2, 2), bias=False)\n",
            "        (1): BatchNorm2d(256, eps=1e-05, momentum=0.1, affine=True, track_running_stats=True)\n",
            "      )\n",
            "    )\n",
            "    (1): BasicBlock(\n",
            "      (conv1): Conv2d(256, 256, kernel_size=(3, 3), stride=(1, 1), padding=(1, 1), bias=False)\n",
            "      (bn1): BatchNorm2d(256, eps=1e-05, momentum=0.1, affine=True, track_running_stats=True)\n",
            "      (relu): ReLU(inplace=True)\n",
            "      (conv2): Conv2d(256, 256, kernel_size=(3, 3), stride=(1, 1), padding=(1, 1), bias=False)\n",
            "      (bn2): BatchNorm2d(256, eps=1e-05, momentum=0.1, affine=True, track_running_stats=True)\n",
            "    )\n",
            "  )\n",
            "  (layer4): Sequential(\n",
            "    (0): BasicBlock(\n",
            "      (conv1): Conv2d(256, 512, kernel_size=(3, 3), stride=(2, 2), padding=(1, 1), bias=False)\n",
            "      (bn1): BatchNorm2d(512, eps=1e-05, momentum=0.1, affine=True, track_running_stats=True)\n",
            "      (relu): ReLU(inplace=True)\n",
            "      (conv2): Conv2d(512, 512, kernel_size=(3, 3), stride=(1, 1), padding=(1, 1), bias=False)\n",
            "      (bn2): BatchNorm2d(512, eps=1e-05, momentum=0.1, affine=True, track_running_stats=True)\n",
            "      (downsample): Sequential(\n",
            "        (0): Conv2d(256, 512, kernel_size=(1, 1), stride=(2, 2), bias=False)\n",
            "        (1): BatchNorm2d(512, eps=1e-05, momentum=0.1, affine=True, track_running_stats=True)\n",
            "      )\n",
            "    )\n",
            "    (1): BasicBlock(\n",
            "      (conv1): Conv2d(512, 512, kernel_size=(3, 3), stride=(1, 1), padding=(1, 1), bias=False)\n",
            "      (bn1): BatchNorm2d(512, eps=1e-05, momentum=0.1, affine=True, track_running_stats=True)\n",
            "      (relu): ReLU(inplace=True)\n",
            "      (conv2): Conv2d(512, 512, kernel_size=(3, 3), stride=(1, 1), padding=(1, 1), bias=False)\n",
            "      (bn2): BatchNorm2d(512, eps=1e-05, momentum=0.1, affine=True, track_running_stats=True)\n",
            "    )\n",
            "  )\n",
            "  (avgpool): AdaptiveAvgPool2d(output_size=(1, 1))\n",
            "  (fc): Linear(in_features=512, out_features=9, bias=True)\n",
            ")\n"
          ]
        }
      ],
      "source": [
        "#Code here\n",
        "# Initialize the model for this run\n",
        "feature_extract=False\n",
        "model_ft3, input_size = initialize_model(\"resnet\", num_classes, feature_extract, use_pretrained=False)\n",
        "\n",
        "# Print the model we just instantiated\n",
        "print(model_ft3)\n",
        "\n"
      ]
    },
    {
      "cell_type": "code",
      "source": [
        "params_to_update = model_ft3.parameters()\n",
        "print(\"Params to learn:\")\n",
        "if feature_extract:\n",
        "    print('feature extraction')\n",
        "    params_to_update = []\n",
        "    for name,param in model_ft2.named_parameters():\n",
        "        if param.requires_grad == True:\n",
        "            params_to_update.append(param)\n",
        "            print(\"\\t\",name)\n",
        "else:\n",
        "    print('finetuning ')\n",
        "    for name,param in model_ft2.named_parameters():\n",
        "        if param.requires_grad == True:\n",
        "            print(\"\\t\",name)"
      ],
      "metadata": {
        "colab": {
          "base_uri": "https://localhost:8080/"
        },
        "id": "Ev7i9ffkCON2",
        "outputId": "2d905f41-6ee1-4c10-ec75-721ca66319f8"
      },
      "execution_count": 25,
      "outputs": [
        {
          "output_type": "stream",
          "name": "stdout",
          "text": [
            "Params to learn:\n",
            "finetuning \n",
            "\t conv1.weight\n",
            "\t bn1.weight\n",
            "\t bn1.bias\n",
            "\t layer1.0.conv1.weight\n",
            "\t layer1.0.bn1.weight\n",
            "\t layer1.0.bn1.bias\n",
            "\t layer1.0.conv2.weight\n",
            "\t layer1.0.bn2.weight\n",
            "\t layer1.0.bn2.bias\n",
            "\t layer1.1.conv1.weight\n",
            "\t layer1.1.bn1.weight\n",
            "\t layer1.1.bn1.bias\n",
            "\t layer1.1.conv2.weight\n",
            "\t layer1.1.bn2.weight\n",
            "\t layer1.1.bn2.bias\n",
            "\t layer2.0.conv1.weight\n",
            "\t layer2.0.bn1.weight\n",
            "\t layer2.0.bn1.bias\n",
            "\t layer2.0.conv2.weight\n",
            "\t layer2.0.bn2.weight\n",
            "\t layer2.0.bn2.bias\n",
            "\t layer2.0.downsample.0.weight\n",
            "\t layer2.0.downsample.1.weight\n",
            "\t layer2.0.downsample.1.bias\n",
            "\t layer2.1.conv1.weight\n",
            "\t layer2.1.bn1.weight\n",
            "\t layer2.1.bn1.bias\n",
            "\t layer2.1.conv2.weight\n",
            "\t layer2.1.bn2.weight\n",
            "\t layer2.1.bn2.bias\n",
            "\t layer3.0.conv1.weight\n",
            "\t layer3.0.bn1.weight\n",
            "\t layer3.0.bn1.bias\n",
            "\t layer3.0.conv2.weight\n",
            "\t layer3.0.bn2.weight\n",
            "\t layer3.0.bn2.bias\n",
            "\t layer3.0.downsample.0.weight\n",
            "\t layer3.0.downsample.1.weight\n",
            "\t layer3.0.downsample.1.bias\n",
            "\t layer3.1.conv1.weight\n",
            "\t layer3.1.bn1.weight\n",
            "\t layer3.1.bn1.bias\n",
            "\t layer3.1.conv2.weight\n",
            "\t layer3.1.bn2.weight\n",
            "\t layer3.1.bn2.bias\n",
            "\t layer4.0.conv1.weight\n",
            "\t layer4.0.bn1.weight\n",
            "\t layer4.0.bn1.bias\n",
            "\t layer4.0.conv2.weight\n",
            "\t layer4.0.bn2.weight\n",
            "\t layer4.0.bn2.bias\n",
            "\t layer4.0.downsample.0.weight\n",
            "\t layer4.0.downsample.1.weight\n",
            "\t layer4.0.downsample.1.bias\n",
            "\t layer4.1.conv1.weight\n",
            "\t layer4.1.bn1.weight\n",
            "\t layer4.1.bn1.bias\n",
            "\t layer4.1.conv2.weight\n",
            "\t layer4.1.bn2.weight\n",
            "\t layer4.1.bn2.bias\n",
            "\t fc.weight\n",
            "\t fc.bias\n"
          ]
        }
      ]
    },
    {
      "cell_type": "code",
      "source": [
        "# Send the model to GPU\n",
        "model_ft3 = model_ft3.to(device)\n",
        "criterion = nn.CrossEntropyLoss()\n",
        "optimizer_ft = optim.SGD(params_to_update, lr=0.001, momentum=0.9)\n",
        "model_ft3, hist3 = train_model(model_ft3, dataloaders_dict, criterion, optimizer_ft, num_epochs=num_epochs, is_inception=False)"
      ],
      "metadata": {
        "colab": {
          "base_uri": "https://localhost:8080/"
        },
        "id": "7DnUlz0gCCzf",
        "outputId": "e393fc6d-f013-407b-d20a-e00d5097bc72"
      },
      "execution_count": 26,
      "outputs": [
        {
          "output_type": "stream",
          "name": "stdout",
          "text": [
            "Epoch 0/29\n",
            "----------\n",
            "train Loss: 2.1673 Acc: 0.1599\n",
            "val Loss: 2.1398 Acc: 0.2058\n",
            "\n",
            "Epoch 1/29\n",
            "----------\n",
            "train Loss: 2.0509 Acc: 0.2363\n",
            "val Loss: 2.1651 Acc: 0.1923\n",
            "\n",
            "Epoch 2/29\n",
            "----------\n",
            "train Loss: 1.9513 Acc: 0.2729\n",
            "val Loss: 1.9522 Acc: 0.2846\n",
            "\n",
            "Epoch 3/29\n",
            "----------\n",
            "train Loss: 1.8851 Acc: 0.3076\n",
            "val Loss: 1.9981 Acc: 0.2846\n",
            "\n",
            "Epoch 4/29\n",
            "----------\n",
            "train Loss: 1.7950 Acc: 0.3564\n",
            "val Loss: 1.9451 Acc: 0.3250\n",
            "\n",
            "Epoch 5/29\n",
            "----------\n",
            "train Loss: 1.7369 Acc: 0.3733\n",
            "val Loss: 1.8493 Acc: 0.3462\n",
            "\n",
            "Epoch 6/29\n",
            "----------\n",
            "train Loss: 1.6773 Acc: 0.4087\n",
            "val Loss: 1.9162 Acc: 0.3154\n",
            "\n",
            "Epoch 7/29\n",
            "----------\n",
            "train Loss: 1.5866 Acc: 0.4493\n",
            "val Loss: 1.7684 Acc: 0.3769\n",
            "\n",
            "Epoch 8/29\n",
            "----------\n",
            "train Loss: 1.4972 Acc: 0.4808\n",
            "val Loss: 2.1461 Acc: 0.3115\n",
            "\n",
            "Epoch 9/29\n",
            "----------\n",
            "train Loss: 1.4209 Acc: 0.5041\n",
            "val Loss: 1.8385 Acc: 0.3558\n",
            "\n",
            "Epoch 10/29\n",
            "----------\n",
            "train Loss: 1.2846 Acc: 0.5579\n",
            "val Loss: 2.1462 Acc: 0.3269\n",
            "\n",
            "Epoch 11/29\n",
            "----------\n",
            "train Loss: 1.1404 Acc: 0.6260\n",
            "val Loss: 2.0715 Acc: 0.3692\n",
            "\n",
            "Epoch 12/29\n",
            "----------\n",
            "train Loss: 1.0082 Acc: 0.6597\n",
            "val Loss: 2.1196 Acc: 0.3462\n",
            "\n",
            "Epoch 13/29\n",
            "----------\n",
            "train Loss: 0.8628 Acc: 0.7221\n",
            "val Loss: 2.3027 Acc: 0.3558\n",
            "\n",
            "Epoch 14/29\n",
            "----------\n",
            "train Loss: 0.7129 Acc: 0.7806\n",
            "val Loss: 2.5185 Acc: 0.3558\n",
            "\n",
            "Epoch 15/29\n",
            "----------\n",
            "train Loss: 0.6372 Acc: 0.8003\n",
            "val Loss: 2.1532 Acc: 0.3827\n",
            "\n",
            "Epoch 16/29\n",
            "----------\n",
            "train Loss: 0.5065 Acc: 0.8534\n",
            "val Loss: 2.3201 Acc: 0.3596\n",
            "\n",
            "Epoch 17/29\n",
            "----------\n",
            "train Loss: 0.4209 Acc: 0.8824\n",
            "val Loss: 2.7834 Acc: 0.3000\n",
            "\n",
            "Epoch 18/29\n",
            "----------\n",
            "train Loss: 0.3727 Acc: 0.8978\n",
            "val Loss: 2.4585 Acc: 0.3827\n",
            "\n",
            "Epoch 19/29\n",
            "----------\n",
            "train Loss: 0.2898 Acc: 0.9258\n",
            "val Loss: 2.3772 Acc: 0.3885\n",
            "\n",
            "Epoch 20/29\n",
            "----------\n",
            "train Loss: 0.3139 Acc: 0.9157\n",
            "val Loss: 2.4060 Acc: 0.3923\n",
            "\n",
            "Epoch 21/29\n",
            "----------\n",
            "train Loss: 0.2464 Acc: 0.9405\n",
            "val Loss: 2.8165 Acc: 0.3538\n",
            "\n",
            "Epoch 22/29\n",
            "----------\n",
            "train Loss: 0.2553 Acc: 0.9387\n",
            "val Loss: 2.7023 Acc: 0.3654\n",
            "\n",
            "Epoch 23/29\n",
            "----------\n",
            "train Loss: 0.2234 Acc: 0.9380\n",
            "val Loss: 2.5826 Acc: 0.3942\n",
            "\n",
            "Epoch 24/29\n",
            "----------\n",
            "train Loss: 0.2465 Acc: 0.9358\n",
            "val Loss: 2.6678 Acc: 0.3750\n",
            "\n",
            "Epoch 25/29\n",
            "----------\n",
            "train Loss: 0.2019 Acc: 0.9516\n",
            "val Loss: 2.5354 Acc: 0.3981\n",
            "\n",
            "Epoch 26/29\n",
            "----------\n",
            "train Loss: 0.2030 Acc: 0.9530\n",
            "val Loss: 3.1523 Acc: 0.3269\n",
            "\n",
            "Epoch 27/29\n",
            "----------\n",
            "train Loss: 0.1761 Acc: 0.9627\n",
            "val Loss: 2.8183 Acc: 0.3423\n",
            "\n",
            "Epoch 28/29\n",
            "----------\n",
            "train Loss: 0.1706 Acc: 0.9588\n",
            "val Loss: 2.5987 Acc: 0.3808\n",
            "\n",
            "Epoch 29/29\n",
            "----------\n",
            "train Loss: 0.1396 Acc: 0.9674\n",
            "val Loss: 2.4719 Acc: 0.3846\n",
            "\n",
            "Training complete in 11m 19s\n",
            "Best val Acc: 0.398077\n"
          ]
        }
      ]
    },
    {
      "cell_type": "markdown",
      "metadata": {
        "id": "dmA_IR-5zLfE"
      },
      "source": [
        "### Comparing models"
      ]
    },
    {
      "cell_type": "markdown",
      "metadata": {
        "id": "VTzpVkf0zOde"
      },
      "source": [
        "using data from all three models you have trained, plot a graph comparing validation Accuracy vs. Number of Epochs for your models for performance comparison."
      ]
    },
    {
      "cell_type": "code",
      "source": [
        "# Loss Plot\n",
        "import matplotlib.pyplot as plt\n",
        "\n",
        "# plot\n",
        "fig, ax = plt.subplots()\n",
        "\n",
        "ax.plot(range(num_epochs), [x.cpu() for x in hist], linewidth=2.0, label=\"Feature Extract\")\n",
        "ax.plot(range(num_epochs), [x.cpu() for x in hist2], linewidth=2.0, label=\"Fine Tuning\")\n",
        "ax.plot(range(num_epochs), [x.cpu() for x in hist3], linewidth=2.0, label=\"Use pre-trained = False\")\n",
        "ax.set_xlabel('Epochs')\n",
        "ax.set_ylabel('Validation accuracy')\n",
        "ax.set_title('Validation accuracy vs epochs for different models')\n",
        "\n",
        "plt.legend()\n",
        "plt.show()"
      ],
      "metadata": {
        "colab": {
          "base_uri": "https://localhost:8080/",
          "height": 295
        },
        "id": "cqjZKpluHOW5",
        "outputId": "9ba06671-f94a-4f78-ed76-fe883b666fb3"
      },
      "execution_count": 39,
      "outputs": [
        {
          "output_type": "display_data",
          "data": {
            "image/png": "[encoded data removed]",
            "text/plain": [
              "<Figure size 432x288 with 1 Axes>"
            ]
          },
          "metadata": {
            "needs_background": "light"
          }
        }
      ]
    },
    {
      "cell_type": "markdown",
      "source": [
        ""
      ],
      "metadata": {
        "id": "p_Xrku9gV2hj"
      }
    },
    {
      "cell_type": "markdown",
      "metadata": {
        "id": "epKpMl-CV9ZQ"
      },
      "source": [
        "Question: Which of the three trained models performed best in terms of validation accuracy?\n",
        "Explain why."
      ]
    },
    {
      "cell_type": "markdown",
      "metadata": {
        "id": "14HQHUufWMet"
      },
      "source": [
        "Answer: Fine tuning performed the best in terms of validation accuracy. The pretrained model parameters were being updated based on the new marvel classification dataset. This made the model more specific to this dataset thereby improving the validation accuracy. The model that performed worst was the one where no pre-trained weights were imported. Essentially, in this case, no transfer learning was used."
      ]
    }
  ],
  "metadata": {
    "accelerator": "GPU",
    "colab": {
      "collapsed_sections": [],
      "name": "22100001_B.ipynb",
      "provenance": []
    },
    "kernelspec": {
      "display_name": "Python 3 (ipykernel)",
      "language": "python",
      "name": "python3"
    },
    "language_info": {
      "codemirror_mode": {
        "name": "ipython",
        "version": 3
      },
      "file_extension": ".py",
      "mimetype": "text/x-python",
      "name": "python",
      "nbconvert_exporter": "python",
      "pygments_lexer": "ipython3",
      "version": "3.9.6"
    }
  },
  "nbformat": 4,
  "nbformat_minor": 0
}